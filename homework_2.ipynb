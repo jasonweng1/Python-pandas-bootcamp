{
  "nbformat": 4,
  "nbformat_minor": 0,
  "metadata": {
    "colab": {
      "provenance": [],
      "toc_visible": true,
      "include_colab_link": true
    },
    "kernelspec": {
      "name": "python3",
      "display_name": "Python 3"
    },
    "language_info": {
      "name": "python"
    }
  },
  "cells": [
    {
      "cell_type": "markdown",
      "metadata": {
        "id": "view-in-github",
        "colab_type": "text"
      },
      "source": [
        "<a href=\"https://colab.research.google.com/github/jasonweng1/python-pandas-bootcamp/blob/main/homework_2.ipynb\" target=\"_parent\"><img src=\"https://colab.research.google.com/assets/colab-badge.svg\" alt=\"Open In Colab\"/></a>"
      ]
    },
    {
      "cell_type": "code",
      "source": [
        "import pandas as pd"
      ],
      "metadata": {
        "id": "GVKuNLMPER-p"
      },
      "execution_count": 4,
      "outputs": []
    },
    {
      "cell_type": "markdown",
      "source": [
        "#Q1#\n",
        "Create a Pandas Series containing the following data: [10, 20, 30, 40, 50] and label it with the corresponding days of the week (Monday to Friday)."
      ],
      "metadata": {
        "id": "SqgQziyUGC2z"
      }
    },
    {
      "cell_type": "code",
      "source": [
        "data = [10, 20, 30, 40, 50]\n",
        "days_of_week = [\"Monday\", \"Tuesday\", \"Wednesday\", \"Thursday\", \"Friday\"]\n",
        "\n",
        "series = pd.Series(data, index = days_of_week)\n",
        "print(series)"
      ],
      "metadata": {
        "id": "qCd1UJtqEoYp",
        "colab": {
          "base_uri": "https://localhost:8080/"
        },
        "outputId": "08cd7c27-0d14-422e-f408-f4bb6efdf03f"
      },
      "execution_count": 58,
      "outputs": [
        {
          "output_type": "stream",
          "name": "stdout",
          "text": [
            "Monday       10\n",
            "Tuesday      20\n",
            "Wednesday    30\n",
            "Thursday     40\n",
            "Friday       50\n",
            "dtype: int64\n"
          ]
        }
      ]
    },
    {
      "cell_type": "markdown",
      "source": [
        "#Q2#\n",
        "From the Series created in Problem 1, extract and print the value corresponding to 'Wednesday' and \"Friday\"."
      ],
      "metadata": {
        "id": "alO97tTXPH6R"
      }
    },
    {
      "cell_type": "code",
      "source": [
        "wed = series[\"Wednesday\"]\n",
        "fri = series[\"Friday\"]\n",
        "\n",
        "print(\"Value for Wednesday:\",  wed)\n",
        "print(\"Value for Friday:\", fri)"
      ],
      "metadata": {
        "id": "jYFstWGAEpK5",
        "colab": {
          "base_uri": "https://localhost:8080/"
        },
        "outputId": "d45850ab-517e-44cc-b98e-28c9423799b6"
      },
      "execution_count": 59,
      "outputs": [
        {
          "output_type": "stream",
          "name": "stdout",
          "text": [
            "Value for Wednesday: 30\n",
            "Value for Friday: 50\n"
          ]
        }
      ]
    },
    {
      "cell_type": "markdown",
      "source": [
        "#Q3#\n",
        "\n",
        "Filter and print the values in the Series `series` that are greater than 30.\n",
        "\n",
        "```\n",
        "series = pd.Series([12, 30, 43, 2, 567])\n",
        "```"
      ],
      "metadata": {
        "id": "8gjag6jFPgLn"
      }
    },
    {
      "cell_type": "code",
      "source": [
        "series = pd.Series([12, 30, 43, 2, 567])\n",
        "\n",
        "result = series[series > 30]\n",
        "\n",
        "print(result)"
      ],
      "metadata": {
        "id": "XX5v4KMMEpym",
        "colab": {
          "base_uri": "https://localhost:8080/"
        },
        "outputId": "2a422a94-f44e-4d50-b95a-c4098337b385"
      },
      "execution_count": 52,
      "outputs": [
        {
          "output_type": "stream",
          "name": "stdout",
          "text": [
            "2     43\n",
            "4    567\n",
            "dtype: int64\n"
          ]
        }
      ]
    },
    {
      "cell_type": "markdown",
      "source": [
        "#Q4#\n",
        "Check if there are any null (missing) values in `ser` and print the result.\n",
        "```\n",
        "ser = pd.Series([1, 20, None, 45, pd.NA])\n",
        "```\n"
      ],
      "metadata": {
        "id": "Wu9CxFNORNsm"
      }
    },
    {
      "cell_type": "code",
      "source": [
        "ser = pd.Series([1, 20, None, 45, pd.NA])\n",
        "\n",
        "has_null_values = ser.isnull().any()\n",
        "\n",
        "print(\"There are null values in the series?\", has_null_values)"
      ],
      "metadata": {
        "id": "7QPa15jrEqhf",
        "colab": {
          "base_uri": "https://localhost:8080/"
        },
        "outputId": "47c2c924-23cc-4016-f176-ae70a5af56e0"
      },
      "execution_count": 62,
      "outputs": [
        {
          "output_type": "stream",
          "name": "stdout",
          "text": [
            "There are null values in the series? True\n"
          ]
        }
      ]
    },
    {
      "cell_type": "markdown",
      "source": [
        "#Q5#\n",
        "Sort the Series `ser` in ascending order by its absolute values and put any missing values at the end.\n",
        "```\n",
        "ser = pd.Series([12, -23, None, 2, 40, -5, -90, None])\n",
        "```"
      ],
      "metadata": {
        "id": "nb0cBndORxdT"
      }
    },
    {
      "cell_type": "code",
      "source": [
        "ser = pd.Series([12, -23, None, 2, 40, -5, -90, None])\n",
        "\n",
        "# Sort the Series by absolute values and put missing values at the end\n",
        "sorted_ser = ser.abs().sort_values()\n",
        "\n",
        "print(sorted_ser)"
      ],
      "metadata": {
        "id": "XnZ2KAiCErP2",
        "colab": {
          "base_uri": "https://localhost:8080/"
        },
        "outputId": "d048807e-d296-4bc1-f94e-a16468a76204"
      },
      "execution_count": 72,
      "outputs": [
        {
          "output_type": "stream",
          "name": "stdout",
          "text": [
            "3     2.0\n",
            "5     5.0\n",
            "0    12.0\n",
            "1    23.0\n",
            "4    40.0\n",
            "6    90.0\n",
            "2     NaN\n",
            "7     NaN\n",
            "dtype: float64\n"
          ]
        }
      ]
    },
    {
      "cell_type": "markdown",
      "source": [
        "#Q6#\n",
        "Extract and print the unique values from the Series `ser = pd.Series([23, 1, 3, None, 3, 23])`"
      ],
      "metadata": {
        "id": "shYTeXiCSR0l"
      }
    },
    {
      "cell_type": "code",
      "source": [
        "ser = pd.Series([23, 1, 3, None, 3, 23])\n",
        "\n",
        "result = ser.unique()\n",
        "\n",
        "print(result)"
      ],
      "metadata": {
        "id": "-Qn4l4HCEr7g",
        "colab": {
          "base_uri": "https://localhost:8080/"
        },
        "outputId": "175def00-2ad7-48ca-a859-48021f51d19a"
      },
      "execution_count": 81,
      "outputs": [
        {
          "output_type": "stream",
          "name": "stdout",
          "text": [
            "[23.  1.  3. nan]\n"
          ]
        }
      ]
    },
    {
      "cell_type": "markdown",
      "source": [
        "#Q7#\n",
        "Calculate the exponential of each element in the Series `ser` and store the result in a new Series.\n",
        "\n",
        "```\n",
        "ser = pd.Series([2, 4, 5, 12, 6])\n",
        "```"
      ],
      "metadata": {
        "id": "8VcZx57US70G"
      }
    },
    {
      "cell_type": "code",
      "source": [],
      "metadata": {
        "id": "XaNhsMYwEssv"
      },
      "execution_count": null,
      "outputs": []
    },
    {
      "cell_type": "markdown",
      "source": [
        "#Q8#\n",
        "\n",
        "Count and print the number of occurrences of each unique value in the Series `ser`, inclusing missing values\n",
        "\n",
        "```\n",
        "ser = pd.Series([2, 3, 4, 3, 5, 6, None, 6])\n",
        "```"
      ],
      "metadata": {
        "id": "2LR-YUf-T9EZ"
      }
    },
    {
      "cell_type": "code",
      "source": [],
      "metadata": {
        "id": "yeq-4yVREtcG"
      },
      "execution_count": null,
      "outputs": []
    },
    {
      "cell_type": "markdown",
      "source": [
        "#Q9#\n",
        "Find and print the minimum and maximum values in the Series `ser`\n",
        "\n",
        "```\n",
        "ser = pd.Series([-10, 34, 45, 87, 54])\n",
        "```"
      ],
      "metadata": {
        "id": "Es6hBQMwWVYQ"
      }
    },
    {
      "cell_type": "code",
      "source": [],
      "metadata": {
        "id": "jmJBjueAWfk0"
      },
      "execution_count": null,
      "outputs": []
    },
    {
      "cell_type": "markdown",
      "source": [
        "#Q10#\n",
        "\n",
        "Create two Series with the same index labels and subtract one from the other."
      ],
      "metadata": {
        "id": "olmlaDhpXVLV"
      }
    },
    {
      "cell_type": "code",
      "source": [],
      "metadata": {
        "id": "YZrvLXJ2YEC7"
      },
      "execution_count": null,
      "outputs": []
    },
    {
      "cell_type": "markdown",
      "source": [
        "#Q11#\n",
        "\n",
        "Filter the elements of the Series `ser` to include only those values that are greater than the mean of the Series.\n",
        "\n",
        "```\n",
        "import numpy as np\n",
        "np.random.seed(1234)\n",
        "ser = pd.Series(np.random.normal(size = 15))\n",
        "```"
      ],
      "metadata": {
        "id": "iztTuFCzDpzJ"
      }
    },
    {
      "cell_type": "code",
      "source": [],
      "metadata": {
        "id": "lS7K-7F8DvwK"
      },
      "execution_count": null,
      "outputs": []
    },
    {
      "cell_type": "markdown",
      "source": [
        "#Q12#\n",
        "\n",
        "Rename the index of the Series `ser` with new index labels `\"A\", \"B\", \"C\"`\n",
        "\n",
        "```\n",
        "ser = pd.Series([1,2,3], index = list(\"abc\"))\n",
        "```\n",
        "\n"
      ],
      "metadata": {
        "id": "iZYGypDsEZBk"
      }
    },
    {
      "cell_type": "code",
      "source": [],
      "metadata": {
        "id": "QK0EsmmsEfrv"
      },
      "execution_count": null,
      "outputs": []
    },
    {
      "cell_type": "markdown",
      "source": [
        "#Q13#\n",
        "\n",
        "Convert the data type of the Series `ser` to  integer.\n",
        "\n",
        "```\n",
        "ser = pd.Series([1.0, 2.34, 5.6], dtype = \"float64\")\n",
        "```\n",
        "\n",
        "**Hint:** `astype()` method"
      ],
      "metadata": {
        "id": "LmSbyKpwFlFH"
      }
    },
    {
      "cell_type": "code",
      "source": [],
      "metadata": {
        "id": "txIoPmpUGvpy"
      },
      "execution_count": null,
      "outputs": []
    },
    {
      "cell_type": "markdown",
      "source": [
        "#Q14#\n",
        "\n",
        "Replace specific values in the Series `ser` with new values as follows:\n",
        "\n",
        "replace `'b' by 100, 'c' by 200` and keep other values untouched.\n",
        "\n",
        "```\n",
        "ser = pd.Series([\"a\", \"c\", \"c\", \"b\", \"d\"])\n",
        "```"
      ],
      "metadata": {
        "id": "g_ZzptXXJ4V5"
      }
    },
    {
      "cell_type": "code",
      "source": [],
      "metadata": {
        "id": "WwzfztwsJ9oB"
      },
      "execution_count": null,
      "outputs": []
    },
    {
      "cell_type": "markdown",
      "source": [
        "#Q15#\n",
        "\n",
        "Interpolate missing values in the Series `ser` using **linear** interpolation.\n",
        "\n",
        "```\n",
        "ser = pd.Series([1, None, 3, None, 5])\n",
        "```"
      ],
      "metadata": {
        "id": "e0Mrsya3Kdng"
      }
    },
    {
      "cell_type": "code",
      "source": [],
      "metadata": {
        "id": "1UnDTwdBKtPY"
      },
      "execution_count": null,
      "outputs": []
    },
    {
      "cell_type": "markdown",
      "source": [
        "#Q16#\n",
        "\n",
        "Create a Series of student grades (e.g., 'A', 'B', 'C', 'D', 'F'). Use the `map` method to convert these letter grades to corresponding grade point averages (GPA) as follows:\n",
        "```\n",
        "'A' -> 4.0\n",
        "'B' -> 3.0\n",
        "'C' -> 2.0\n",
        "'D' -> 1.0\n",
        "'F' -> 0.0\n",
        "```"
      ],
      "metadata": {
        "id": "EbfeNyD4K6DF"
      }
    },
    {
      "cell_type": "code",
      "source": [],
      "metadata": {
        "id": "J-gaTxyzLesa"
      },
      "execution_count": null,
      "outputs": []
    },
    {
      "cell_type": "markdown",
      "source": [
        "#Q17#\n",
        "\n",
        "Given the Series `ser`, use the agg method to calculate the total value, average value, and maximum value.\n",
        "\n",
        "```\n",
        "ser = pd.Series([1000, 1500, 800, 2000, 1200])\n",
        "```"
      ],
      "metadata": {
        "id": "mKIOKd61MIJ9"
      }
    },
    {
      "cell_type": "code",
      "source": [],
      "metadata": {
        "id": "jN8g5NtJMLjS"
      },
      "execution_count": null,
      "outputs": []
    },
    {
      "cell_type": "markdown",
      "source": [
        "#Q18#\n",
        "\n",
        "Given the following Series of lists containing exam scores for 4 students, calculate the average score for each student.\n",
        "\n",
        "```\n",
        "scores = pd.Series([[85, 90, 78], [92, 88, 94], [78, 85, 80], [88, 92, 90]],\n",
        "                   index = [\"stu1\", \"stu2\", \"stu3\", \"stu4\"])\n",
        "\n",
        "```"
      ],
      "metadata": {
        "id": "5ihLqra6MzMi"
      }
    },
    {
      "cell_type": "code",
      "source": [],
      "metadata": {
        "id": "XjU464wrNY6X"
      },
      "execution_count": null,
      "outputs": []
    },
    {
      "cell_type": "markdown",
      "source": [
        "#Q19#\n",
        "\n",
        "You have a Series of exam scores as follows,\n",
        "\n",
        "```\n",
        "scores = pd.Series([45, 78, 55, 92, 60, 38, 72])\n",
        "```\n",
        "\n",
        "You want to apply a curve to the scores:\n",
        "\n",
        "if a score is less than 60, increase it by 10 points; otherwise, leave it unchanged.\n",
        "\n",
        "Use the `where` method to apply this curve to the scores."
      ],
      "metadata": {
        "id": "9YzJfl9WOHRU"
      }
    },
    {
      "cell_type": "code",
      "source": [],
      "metadata": {
        "id": "PBXWTAMJOGem"
      },
      "execution_count": null,
      "outputs": []
    },
    {
      "cell_type": "markdown",
      "source": [
        "#Q20#\n",
        "\n",
        "You have a Series of temperatures in Celsius,\n",
        "\n",
        "```\n",
        "temperatures_celsius = pd.Series([20, 28, 22, 30, 18, 25, 27])\n",
        "```\n",
        "\n",
        "You want to convert temperatures above a certain threshold (e.g., 25 degrees Celsius) to Fahrenheit.\n",
        "\n",
        "Write code to apply the conversion formula to temperatures above the threshold and leave temperatures below the threshold in Celsius.\n",
        "\n",
        "**Note:** The Fahrenheit to Celsius conversion formula is: `F = (C * 9/5) + 32`, where `F` is the temperature in Fahrenheit and `C` is the temperature in Celsius."
      ],
      "metadata": {
        "id": "vEOXkDlUP6t_"
      }
    },
    {
      "cell_type": "code",
      "source": [],
      "metadata": {
        "id": "5O2kN1uRQFJb"
      },
      "execution_count": null,
      "outputs": []
    },
    {
      "cell_type": "markdown",
      "source": [
        "#Q21#\n",
        "\n",
        "You have a Series of names, and you want to identify and print the duplicated names in the Series.\n",
        "\n",
        "```\n",
        "names = pd.Series(['Alice', 'Bob', 'Alice', 'Charlie', 'Bob', 'David'])\n",
        "```"
      ],
      "metadata": {
        "id": "1IoLNHc0RDkG"
      }
    },
    {
      "cell_type": "code",
      "source": [],
      "metadata": {
        "id": "B8hbmy3_RJBd"
      },
      "execution_count": null,
      "outputs": []
    },
    {
      "cell_type": "markdown",
      "source": [
        "#Q22#\n",
        "\n",
        "Extend the previous question to count the occurrences of each duplicated value in the Series."
      ],
      "metadata": {
        "id": "_-DsCWs8Rzlm"
      }
    },
    {
      "cell_type": "code",
      "source": [],
      "metadata": {
        "id": "mB_H6p1CSFHl"
      },
      "execution_count": null,
      "outputs": []
    },
    {
      "cell_type": "markdown",
      "source": [
        "#Q23#\n",
        "\n",
        "You have a Series of data with missing values represented as `None`, and you want to replace these missing values with the mean of the non-missing values.\n",
        "\n",
        "```\n",
        "data = pd.Series([10, 20, None, 30, 40, None, 50])\n",
        "```\n"
      ],
      "metadata": {
        "id": "Hl4f9MbFSqgt"
      }
    },
    {
      "cell_type": "code",
      "source": [],
      "metadata": {
        "id": "HsCjEG58Stvm"
      },
      "execution_count": null,
      "outputs": []
    },
    {
      "cell_type": "markdown",
      "source": [
        "#Q24#\n",
        "\n",
        "Extend the previous question to drop rows containing missing values from the Series.\n",
        "\n",
        "```\n",
        "data = pd.Series([10, 20, None, 30, 40, None, 50])\n",
        "```"
      ],
      "metadata": {
        "id": "G-40K60WTqEv"
      }
    },
    {
      "cell_type": "code",
      "source": [],
      "metadata": {
        "id": "hbdsdbOzTt1W"
      },
      "execution_count": null,
      "outputs": []
    },
    {
      "cell_type": "markdown",
      "source": [
        "# Q25\n",
        "\n",
        "You have a Series of stock prices with missing values, and you want to backward fill (copy the next available value) to fill in the missing values.\n",
        "\n",
        "```\n",
        "import numpy as np\n",
        "prices = pd.Series([100, np.nan, 105, np.nan, 110, 112, np.nan, 115])\n",
        "```"
      ],
      "metadata": {
        "id": "T1K9BqGZZUf2"
      }
    },
    {
      "cell_type": "code",
      "source": [],
      "metadata": {
        "id": "ZgsvkAc0Zdfw"
      },
      "execution_count": null,
      "outputs": []
    }
  ]
}