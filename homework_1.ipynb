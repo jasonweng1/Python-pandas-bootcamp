{
  "nbformat": 4,
  "nbformat_minor": 0,
  "metadata": {
    "colab": {
      "provenance": [],
      "include_colab_link": true
    },
    "kernelspec": {
      "name": "python3",
      "display_name": "Python 3"
    },
    "language_info": {
      "name": "python"
    }
  },
  "cells": [
    {
      "cell_type": "markdown",
      "metadata": {
        "id": "view-in-github",
        "colab_type": "text"
      },
      "source": [
        "<a href=\"https://colab.research.google.com/github/jasonweng1/Python-pandas-bootcamp/blob/main/homework_1.ipynb\" target=\"_parent\"><img src=\"https://colab.research.google.com/assets/colab-badge.svg\" alt=\"Open In Colab\"/></a>"
      ]
    },
    {
      "cell_type": "markdown",
      "source": [
        "#Q2#\n",
        "Write a program to remove all duplicates from the list\n",
        "`[1, 2, 2, 3, 4, 4, 5]`"
      ],
      "metadata": {
        "id": "alO97tTXPH6R"
      }
    },
    {
      "cell_type": "markdown",
      "source": [
        "#Q1#\n",
        "Given the list of numbers: `12, 34, 45, 67, 88, 99, 56, 23`, find the sum of all the even numbers in the list."
      ],
      "metadata": {
        "id": "SqgQziyUGC2z"
      }
    },
    {
      "cell_type": "code",
      "source": [
        "q1_list = [12, 34, 45, 67, 88, 99, 56, 23]\n",
        "\n",
        "result = 0\n",
        "for number in q1_list:\n",
        "  if number % 2 == 0:\n",
        "    result += number\n",
        "print(result)"
      ],
      "metadata": {
        "id": "_SAtjY_MqbWU",
        "colab": {
          "base_uri": "https://localhost:8080/",
          "height": 0
        },
        "outputId": "ea6d8a41-f84e-406b-f193-dfa4cbd89e0f"
      },
      "execution_count": 1,
      "outputs": [
        {
          "output_type": "stream",
          "name": "stdout",
          "text": [
            "190\n"
          ]
        }
      ]
    },
    {
      "cell_type": "markdown",
      "source": [
        "#Q2#\n",
        "Write a program to remove all duplicates from the list\n",
        "`[1, 2, 2, 3, 4, 4, 5]`"
      ],
      "metadata": {
        "id": "alO97tTXPH6R"
      }
    },
    {
      "cell_type": "code",
      "source": [
        "q2_list = [1, 2, 2, 3, 4, 4, 5]\n",
        "\n",
        "result = []\n",
        "for number in q2_list:\n",
        "  if number not in result:\n",
        "    result.append(number)\n",
        "\n",
        "print(result)"
      ],
      "metadata": {
        "id": "FigidSedPXlw",
        "colab": {
          "base_uri": "https://localhost:8080/",
          "height": 0
        },
        "outputId": "df7b65af-e9db-4e10-bf22-9f71a81b2daa"
      },
      "execution_count": 2,
      "outputs": [
        {
          "output_type": "stream",
          "name": "stdout",
          "text": [
            "[1, 2, 3, 4, 5]\n"
          ]
        }
      ]
    },
    {
      "cell_type": "markdown",
      "source": [
        "#Q3#\n",
        "Given two lists,\n",
        "```\n",
        "list1 = [1, 2, 3, 4, 3, 5]\n",
        "list2 = [3, 4, 5, 6, 7, 4]\n",
        "```\n",
        "write a program to find the unique common elements between them."
      ],
      "metadata": {
        "id": "8gjag6jFPgLn"
      }
    },
    {
      "cell_type": "code",
      "source": [
        "list1 = [1, 2, 3, 4, 3, 5]\n",
        "list2 = [3, 4, 5, 6, 7, 4]\n",
        "\n",
        "set1 = set(list1)\n",
        "set2 = set(list2)\n",
        "\n",
        "intersection = set1.intersection(set2)\n",
        "print(list(intersection))"
      ],
      "metadata": {
        "id": "26OwpBTSP-UM",
        "colab": {
          "base_uri": "https://localhost:8080/",
          "height": 0
        },
        "outputId": "0b601181-8a5f-461c-bb4d-93b142dabecb"
      },
      "execution_count": 3,
      "outputs": [
        {
          "output_type": "stream",
          "name": "stdout",
          "text": [
            "[3, 4, 5]\n"
          ]
        }
      ]
    },
    {
      "cell_type": "markdown",
      "source": [
        "#Q4#\n",
        "Given the list of strings,\n",
        "\n",
        "`[\"apple\", \"banana\", \"cherry\", \"date\", \"fig\"]`,\n",
        "\n",
        "create a new list containing only the strings with more than 4 characters using list comprehensio\n",
        "\n"
      ],
      "metadata": {
        "id": "Wu9CxFNORNsm"
      }
    },
    {
      "cell_type": "code",
      "source": [
        "q4_list = [\"apple\", \"banana\", \"cherry\", \"date\", \"fig\"]\n",
        "\n",
        "result = [fruit for fruit in q4_list if len(fruit) > 4]\n",
        "\n",
        "print(result)"
      ],
      "metadata": {
        "id": "41AQB5tpRYzs",
        "colab": {
          "base_uri": "https://localhost:8080/",
          "height": 0
        },
        "outputId": "379df1d2-c14d-47a2-b68d-71904661e6eb"
      },
      "execution_count": 4,
      "outputs": [
        {
          "output_type": "stream",
          "name": "stdout",
          "text": [
            "['apple', 'banana', 'cherry']\n"
          ]
        }
      ]
    },
    {
      "cell_type": "markdown",
      "source": [
        "#Q5#\n",
        "Write a function to reverse a list without using the reverse method."
      ],
      "metadata": {
        "id": "nb0cBndORxdT"
      }
    },
    {
      "cell_type": "code",
      "source": [
        "def reverse_a_list(given_list):\n",
        "  result = []\n",
        "\n",
        "  i = len(given_list)\n",
        "  while i > 0:\n",
        "    result.append(given_list[i - 1])\n",
        "    i -= 1\n",
        "\n",
        "  return result\n",
        "\n",
        "\n",
        "q5_list = [\"apple\", \"banana\", \"cherry\", \"date\", \"fig\"]\n",
        "\n",
        "print(reverse_a_list(q5_list))"
      ],
      "metadata": {
        "id": "mRkD2OrfRvBH",
        "colab": {
          "base_uri": "https://localhost:8080/",
          "height": 0
        },
        "outputId": "c6fd74a4-a7e7-4fa7-9196-23142d87ec31"
      },
      "execution_count": 90,
      "outputs": [
        {
          "output_type": "stream",
          "name": "stdout",
          "text": [
            "['fig', 'date', 'cherry', 'banana', 'apple']\n"
          ]
        }
      ]
    },
    {
      "cell_type": "markdown",
      "source": [
        "#Q6#\n",
        "Create a matrix (a list of lists) and write a program to find the sum of all the elements in the matrix."
      ],
      "metadata": {
        "id": "shYTeXiCSR0l"
      }
    },
    {
      "cell_type": "code",
      "source": [
        "q6_list = [[1, 2], [3, 4], [5, 6]]\n",
        "\n",
        "result = 0\n",
        "\n",
        "for sublist in q6_list:\n",
        "  for number in sublist:\n",
        "    result += number\n",
        "\n",
        "print(result)"
      ],
      "metadata": {
        "id": "HD9Gm_rbSQEz",
        "colab": {
          "base_uri": "https://localhost:8080/",
          "height": 0
        },
        "outputId": "50726368-c1e6-4dee-8e4f-6eaf2dadc953"
      },
      "execution_count": 6,
      "outputs": [
        {
          "output_type": "stream",
          "name": "stdout",
          "text": [
            "21\n"
          ]
        }
      ]
    },
    {
      "cell_type": "markdown",
      "source": [
        "#Q7#\n",
        "Given the list of numbers,\n",
        "\n",
        "`[12, 34, 45, 67, 88, 99, 56, 23]`\n",
        "\n",
        "write codes to find the second largest and second smallest elements."
      ],
      "metadata": {
        "id": "8VcZx57US70G"
      }
    },
    {
      "cell_type": "code",
      "source": [
        "q7_list = [12, 34, 45, 67, 88, 99, 56, 23]\n",
        "\n",
        "sorted_list = sorted(q7_list)\n",
        "\n",
        "print(sorted_list[-2], sorted_list[1])"
      ],
      "metadata": {
        "id": "A5vCgMnbTBcf",
        "colab": {
          "base_uri": "https://localhost:8080/",
          "height": 0
        },
        "outputId": "724ae6f1-e656-443c-cbf9-d7f6172bab47"
      },
      "execution_count": 7,
      "outputs": [
        {
          "output_type": "stream",
          "name": "stdout",
          "text": [
            "88 23\n"
          ]
        }
      ]
    },
    {
      "cell_type": "markdown",
      "source": [
        "#Q8#\n",
        "\n",
        "Write a function that computes the cumulative sum of a list (each element is the sum of all elements before it)."
      ],
      "metadata": {
        "id": "2LR-YUf-T9EZ"
      }
    },
    {
      "cell_type": "code",
      "source": [
        "def cumulative_sum(given_list):\n",
        "  result = []\n",
        "\n",
        "  for i in range(len(given_list)):\n",
        "    cumulative = sum(given_list[0:i + 1])\n",
        "    result.append(cumulative)\n",
        "\n",
        "  return result\n",
        "\n",
        "\n",
        "q8_list = [12, 34, 45, 67, 88, 99, 56, 23]\n",
        "\n",
        "print(cumulative_sum(q8_list))"
      ],
      "metadata": {
        "id": "6D4L1Yc1UQ7j",
        "colab": {
          "base_uri": "https://localhost:8080/",
          "height": 0
        },
        "outputId": "0517bc66-a7fa-40c7-d1cb-f2ae832ebed7"
      },
      "execution_count": 92,
      "outputs": [
        {
          "output_type": "stream",
          "name": "stdout",
          "text": [
            "[12, 46, 91, 158, 246, 345, 401, 424]\n"
          ]
        }
      ]
    },
    {
      "cell_type": "markdown",
      "source": [
        "#Q9#\n",
        "Based on the dictionary below,\n",
        "\n",
        "```\n",
        "prices = {\n",
        "'ACME': 45.23,\n",
        "'AAPL': 612.78,\n",
        "'IBM': 205.55,\n",
        "'HPQ': 37.20,\n",
        "'FB': 10.75\n",
        "}\n",
        "```\n",
        "1. Make a dictionary of all prices over 200\n",
        "\n",
        "2. Make a dictionary of tech stocks based on the following list.\n",
        "`tech_names = ['AAPL', 'IBM', 'HPQ', 'FB']`\n"
      ],
      "metadata": {
        "id": "Es6hBQMwWVYQ"
      }
    },
    {
      "cell_type": "code",
      "source": [
        "prices = {\n",
        "'ACME': 45.23,\n",
        "'AAPL': 612.78,\n",
        "'IBM': 205.55,\n",
        "'HPQ': 37.20,\n",
        "'FB': 10.75\n",
        "}\n",
        "\n",
        "# Make a dictionary of all prices over 200\n",
        "\n",
        "#result1 = {}\n",
        "\n",
        "#for key, value in prices.items():\n",
        "#    if value > 200:\n",
        "#        entry = {key : value}\n",
        "#        result1.update(entry)\n",
        "\n",
        "result1 = {key : value for key, value in prices.items() if value > 200}\n",
        "\n",
        "\n",
        "# Make a dictionary of tech stocks based on the following list.\n",
        "# tech_names = ['AAPL', 'IBM', 'HPQ', 'FB']\n",
        "\n",
        "tech_names = ['AAPL', 'IBM', 'HPQ', 'FB']\n",
        "\n",
        "#result2 = {}\n",
        "\n",
        "#for key, value in prices.items():\n",
        "#  if key in tech_names:\n",
        "#    entry = {key : value}\n",
        "#    result2.update(entry)\n",
        "\n",
        "result2 = {key : value for key, value in prices.items() if key in tech_names}\n",
        "\n",
        "print(result1)\n",
        "print(result2)"
      ],
      "metadata": {
        "id": "jmJBjueAWfk0",
        "colab": {
          "base_uri": "https://localhost:8080/",
          "height": 0
        },
        "outputId": "ebda54a5-4fe3-416d-967b-f22d41d0bbfa"
      },
      "execution_count": 53,
      "outputs": [
        {
          "output_type": "stream",
          "name": "stdout",
          "text": [
            "{'AAPL': 612.78, 'IBM': 205.55}\n",
            "{'AAPL': 612.78, 'IBM': 205.55, 'HPQ': 37.2, 'FB': 10.75}\n"
          ]
        }
      ]
    },
    {
      "cell_type": "markdown",
      "source": [
        "#Q10#\n",
        "\n",
        "Given the string,\n",
        "\n",
        "`string = \"Hello, World!\"`\n",
        "\n",
        "count the number of vowels `(a, e, i, o, u)` in it."
      ],
      "metadata": {
        "id": "olmlaDhpXVLV"
      }
    },
    {
      "cell_type": "code",
      "source": [
        "string = \"Hello, World!\"\n",
        "vowels = (\"a\", \"e\", \"i\", \"o\", \"u\")\n",
        "\n",
        "result = 0\n",
        "\n",
        "for letter in string:\n",
        "  if letter in vowels:\n",
        "    result += 1\n",
        "\n",
        "print(result)"
      ],
      "metadata": {
        "id": "YZrvLXJ2YEC7",
        "colab": {
          "base_uri": "https://localhost:8080/",
          "height": 0
        },
        "outputId": "23e29adf-8dc7-42ec-88eb-914d7600b0fc"
      },
      "execution_count": 57,
      "outputs": [
        {
          "output_type": "stream",
          "name": "stdout",
          "text": [
            "3\n"
          ]
        }
      ]
    },
    {
      "cell_type": "markdown",
      "source": [
        "#Q11#\n",
        "\n",
        "Given the string,\n",
        "\n",
        "`\"Hello, World !\"`\n",
        "\n",
        "remove all whitespace characters from it.\n"
      ],
      "metadata": {
        "id": "iztTuFCzDpzJ"
      }
    },
    {
      "cell_type": "code",
      "source": [
        "string = \"Hello, World !\"\n",
        "\n",
        "result = ''.join(string.split())\n",
        "\n",
        "print(result)"
      ],
      "metadata": {
        "id": "lS7K-7F8DvwK",
        "colab": {
          "base_uri": "https://localhost:8080/",
          "height": 0
        },
        "outputId": "b14be395-ecc9-4bc5-c08e-23439cbaa927"
      },
      "execution_count": 71,
      "outputs": [
        {
          "output_type": "stream",
          "name": "stdout",
          "text": [
            "Hello,World!\n"
          ]
        }
      ]
    },
    {
      "cell_type": "markdown",
      "source": [
        "#Q12#\n",
        "\n",
        "Given the string,\n",
        "\n",
        "`\"This is a sample sentence with long words\"`\n",
        "\n",
        "find the longest word in it."
      ],
      "metadata": {
        "id": "iZYGypDsEZBk"
      }
    },
    {
      "cell_type": "code",
      "source": [
        "string = \"This is a sample sentence with long words\"\n",
        "result = \"\"\n",
        "\n",
        "string = string.split()\n",
        "for word in string:\n",
        "  if len(word) > len(result):\n",
        "    result = word\n",
        "\n",
        "print(result)"
      ],
      "metadata": {
        "id": "QK0EsmmsEfrv",
        "colab": {
          "base_uri": "https://localhost:8080/",
          "height": 0
        },
        "outputId": "5ad41433-8cda-4fe2-99fd-eb7acff1b139"
      },
      "execution_count": 76,
      "outputs": [
        {
          "output_type": "stream",
          "name": "stdout",
          "text": [
            "sentence\n"
          ]
        }
      ]
    },
    {
      "cell_type": "markdown",
      "source": [
        "#Q13#\n",
        "\n",
        "Write code to round `123456` to tens place"
      ],
      "metadata": {
        "id": "LmSbyKpwFlFH"
      }
    },
    {
      "cell_type": "code",
      "source": [
        "number = 123456\n",
        "\n",
        "print(round(number, -1))"
      ],
      "metadata": {
        "id": "txIoPmpUGvpy",
        "colab": {
          "base_uri": "https://localhost:8080/",
          "height": 0
        },
        "outputId": "fea611ff-cc81-4a84-eb31-ff777b6cb24f"
      },
      "execution_count": 79,
      "outputs": [
        {
          "output_type": "stream",
          "name": "stdout",
          "text": [
            "123460\n"
          ]
        }
      ]
    },
    {
      "cell_type": "markdown",
      "source": [
        "#Q14#\n",
        "\n",
        "Write a function that checks if a given number is even or odd and returns a corresponding message.\n"
      ],
      "metadata": {
        "id": "g_ZzptXXJ4V5"
      }
    },
    {
      "cell_type": "code",
      "source": [
        "def check_parity(number):\n",
        "  if number % 2 == 0:\n",
        "   return (str(number) + \" is even\")\n",
        "  else:\n",
        "   return (str(number) + \" is odd\")\n",
        "\n",
        "\n",
        "my_number = 123456\n",
        "\n",
        "print(check_parity(my_number))"
      ],
      "metadata": {
        "id": "WwzfztwsJ9oB",
        "colab": {
          "base_uri": "https://localhost:8080/",
          "height": 0
        },
        "outputId": "703cc08f-785b-473d-d39d-cb8f35e7c5aa"
      },
      "execution_count": 96,
      "outputs": [
        {
          "output_type": "stream",
          "name": "stdout",
          "text": [
            "123456 is even\n"
          ]
        }
      ]
    },
    {
      "cell_type": "markdown",
      "source": [
        "#Q15#\n",
        "\n",
        "Create a function that takes a **list** of numbers as input and returns the average of those numbers."
      ],
      "metadata": {
        "id": "e0Mrsya3Kdng"
      }
    },
    {
      "cell_type": "code",
      "source": [
        "def average(number_list):\n",
        "  return sum(number_list) / len(number_list)\n",
        "\n",
        "\n",
        "my_list = [12, 34, 45, 67, 88, 99, 56, 23]\n",
        "\n",
        "print(average(my_list))"
      ],
      "metadata": {
        "id": "1UnDTwdBKtPY",
        "colab": {
          "base_uri": "https://localhost:8080/",
          "height": 0
        },
        "outputId": "5d337fa2-5b68-4ad8-80f0-07782adb4773"
      },
      "execution_count": 97,
      "outputs": [
        {
          "output_type": "stream",
          "name": "stdout",
          "text": [
            "53.0\n"
          ]
        }
      ]
    },
    {
      "cell_type": "markdown",
      "source": [
        "#Q16#\n",
        "\n",
        "Write a function that takes **a variable number** of arguments and returns their sum."
      ],
      "metadata": {
        "id": "EbfeNyD4K6DF"
      }
    },
    {
      "cell_type": "code",
      "source": [
        "def get_sum(*args):\n",
        "  return sum(args)\n",
        "\n",
        "\n",
        "result = get_sum(1, 2, 3, 4, 5, 6)\n",
        "\n",
        "print(result)\n"
      ],
      "metadata": {
        "id": "J-gaTxyzLesa",
        "colab": {
          "base_uri": "https://localhost:8080/"
        },
        "outputId": "9704e89d-783b-4a7b-905a-e426cdbec0e8"
      },
      "execution_count": 101,
      "outputs": [
        {
          "output_type": "stream",
          "name": "stdout",
          "text": [
            "21\n"
          ]
        }
      ]
    },
    {
      "cell_type": "markdown",
      "source": [
        "#Q17#\n",
        "\n",
        "Create a lambda function that takes two numbers as input and returns their product."
      ],
      "metadata": {
        "id": "mKIOKd61MIJ9"
      }
    },
    {
      "cell_type": "code",
      "source": [
        "product = lambda x, y: x*y\n",
        "\n",
        "\n",
        "print(product(5, 6))"
      ],
      "metadata": {
        "id": "jN8g5NtJMLjS",
        "colab": {
          "base_uri": "https://localhost:8080/"
        },
        "outputId": "ec6a4a29-a9ef-45d1-96bb-977f855f087f"
      },
      "execution_count": 106,
      "outputs": [
        {
          "output_type": "stream",
          "name": "stdout",
          "text": [
            "30\n"
          ]
        }
      ]
    },
    {
      "cell_type": "markdown",
      "source": [
        "#Q18#\n",
        "\n",
        "Write a function that accepts a **dictionary** of student names and their corresponding scores. Calculate the average score, round it to the second digits after decimal points, and return it.\n",
        "\n",
        "Example input:\n",
        "\n",
        "`student_scores = {\"Alice\": 90, \"Brain\": 82, \"David\": 88}`\n"
      ],
      "metadata": {
        "id": "5ihLqra6MzMi"
      }
    },
    {
      "cell_type": "code",
      "source": [
        "def get_average_score(scores):\n",
        "  total = sum(scores.values())\n",
        "  average = total / len(scores)\n",
        "  return round(average, 2)\n",
        "\n",
        "\n",
        "student_scores = {\"Alice\": 90, \"Brain\": 82, \"David\": 88}\n",
        "\n",
        "print(get_average_score(student_scores))"
      ],
      "metadata": {
        "id": "XjU464wrNY6X",
        "colab": {
          "base_uri": "https://localhost:8080/"
        },
        "outputId": "25c7ab39-d99c-42a2-860e-ce9c82a7a3c2"
      },
      "execution_count": 114,
      "outputs": [
        {
          "output_type": "stream",
          "name": "stdout",
          "text": [
            "86.67\n"
          ]
        }
      ]
    },
    {
      "cell_type": "markdown",
      "source": [
        "#Q19#\n",
        "\n",
        "Write a function `count_char_occurrences` that takes a string and a character as arguments and counts the number of times the character appears in the string.\n",
        "\n",
        "Example imput:\n",
        "\n",
        "```\n",
        "text = \"Hello, World!\"\n",
        "char = 'l'\n",
        "count = count_char_occurrences(text, char)\n",
        "```"
      ],
      "metadata": {
        "id": "9YzJfl9WOHRU"
      }
    },
    {
      "cell_type": "code",
      "source": [
        "def count_char_occurrences(text, char):\n",
        "  result = 0\n",
        "\n",
        "  for letter in text:\n",
        "    if letter == char:\n",
        "      result += 1\n",
        "\n",
        "  return result\n",
        "\n",
        "\n",
        "text = \"Hello, World!\"\n",
        "char = 'l'\n",
        "count = count_char_occurrences(text, char)\n",
        "print(count)"
      ],
      "metadata": {
        "id": "PBXWTAMJOGem",
        "colab": {
          "base_uri": "https://localhost:8080/"
        },
        "outputId": "1dd4c88c-cbd3-4be4-e832-964866db0884"
      },
      "execution_count": 116,
      "outputs": [
        {
          "output_type": "stream",
          "name": "stdout",
          "text": [
            "3\n"
          ]
        }
      ]
    },
    {
      "cell_type": "markdown",
      "source": [
        "#Q20#\n",
        "\n",
        "Create a function that takes a function and a list of numbers as arguments and applies the function to each number in the list.\n",
        "\n",
        "Example:\n",
        "```\n",
        "def apply_function_to_list(func, numbers):\n",
        "    # you code here\n",
        "\n",
        "numbers = [1, 2, 3, 4, 5]\n",
        "squared_numbers = apply_function_to_list(lambda x: x**2, numbers)\n",
        "print(\"Squared numbers:\", squared_numbers)\n",
        "\n",
        "```"
      ],
      "metadata": {
        "id": "vEOXkDlUP6t_"
      }
    },
    {
      "cell_type": "code",
      "source": [
        "def apply_function_to_list(func, numbers):\n",
        "    result = [func(number) for number in numbers]\n",
        "    return result\n",
        "\n",
        "\n",
        "numbers = [1, 2, 3, 4, 5]\n",
        "squared_numbers = apply_function_to_list(lambda x: x**2, numbers)\n",
        "print(\"Squared numbers:\", squared_numbers)"
      ],
      "metadata": {
        "id": "5O2kN1uRQFJb",
        "colab": {
          "base_uri": "https://localhost:8080/"
        },
        "outputId": "d1a61be3-f6c1-4211-d223-a5d9242beb29"
      },
      "execution_count": 141,
      "outputs": [
        {
          "output_type": "stream",
          "name": "stdout",
          "text": [
            "Squared numbers: [1, 4, 9, 16, 25]\n"
          ]
        }
      ]
    },
    {
      "cell_type": "markdown",
      "source": [
        "#Q21#\n",
        "\n",
        "Write a program that calculates the factorial of a given non-negative integer that is less than 15 using a **while** loop."
      ],
      "metadata": {
        "id": "1IoLNHc0RDkG"
      }
    },
    {
      "cell_type": "code",
      "source": [
        "def factorial(number):\n",
        "  i = 1\n",
        "  result = 1\n",
        "\n",
        "  while i <= number:\n",
        "    result *= i\n",
        "    i += 1\n",
        "\n",
        "  return result\n",
        "\n",
        "\n",
        "my_number = 13\n",
        "\n",
        "print(factorial(my_number))"
      ],
      "metadata": {
        "id": "B8hbmy3_RJBd",
        "colab": {
          "base_uri": "https://localhost:8080/"
        },
        "outputId": "b1cad059-6aac-4827-b8b8-d086c1496cd5"
      },
      "execution_count": 131,
      "outputs": [
        {
          "output_type": "stream",
          "name": "stdout",
          "text": [
            "6227020800\n"
          ]
        }
      ]
    },
    {
      "cell_type": "markdown",
      "source": [
        "#Q22#\n",
        "\n",
        "Create a program that takes a list of numbers and performs the following operations:\n",
        "\n",
        "+ Find the maximum number in the list.\n",
        "+ Find the minimum number in the list.\n",
        "+ Calculate the sum of all numbers in the list.\n",
        "+ Calculate the average of the numbers in the list.\n",
        "\n",
        "Example list\n",
        "\n",
        "`[12, 34, 75, 14, 23, 809]`"
      ],
      "metadata": {
        "id": "_-DsCWs8Rzlm"
      }
    },
    {
      "cell_type": "code",
      "source": [
        "def max_min_sum_av(numbers_list):\n",
        "  sorted_list = sorted(numbers_list)\n",
        "  list_sum = sum(numbers_list)\n",
        "  list_average = list_sum / len(numbers_list)\n",
        "\n",
        "  print(\"Max value = \" + str(sorted_list[0]))\n",
        "  print(\"Min value = \" + str(sorted_list[-1]))\n",
        "  print(\"Sum = \" + str(list_sum))\n",
        "  print(\"Average = \" + str(list_average))\n",
        "\n",
        "\n",
        "numbers = [12, 34, 75, 14, 23, 809]\n",
        "max_min_sum_av(numbers)"
      ],
      "metadata": {
        "id": "mB_H6p1CSFHl",
        "colab": {
          "base_uri": "https://localhost:8080/"
        },
        "outputId": "ba9215f0-fa87-4b59-b21b-dc24c3fb0448"
      },
      "execution_count": 137,
      "outputs": [
        {
          "output_type": "stream",
          "name": "stdout",
          "text": [
            "Max value = 12\n",
            "Min value = 809\n",
            "Sum = 967\n",
            "Average = 161.16666666666666\n"
          ]
        }
      ]
    },
    {
      "cell_type": "markdown",
      "source": [
        "#Q23#\n",
        "\n",
        "Create a program that extracts a sublist from a given list based on user input for start and end indices.\n",
        "\n",
        "Example input\n",
        "```\n",
        "original_list = [1, 2, 3, 4, 5, 6, 7, 8, 9]\n",
        "\n",
        "start_index = 2\n",
        "end_index = 5\n",
        "```"
      ],
      "metadata": {
        "id": "Hl4f9MbFSqgt"
      }
    },
    {
      "cell_type": "code",
      "source": [
        "def extract_sublist(some_list, start, end):\n",
        "  return some_list[start : end]\n",
        "\n",
        "\n",
        "original_list = [1, 2, 3, 4, 5, 6, 7, 8, 9]\n",
        "start_index = 2\n",
        "end_index = 5\n",
        "\n",
        "print(extract_sublist(original_list, start_index, end_index))"
      ],
      "metadata": {
        "id": "HsCjEG58Stvm",
        "colab": {
          "base_uri": "https://localhost:8080/"
        },
        "outputId": "96264405-734c-4e15-cf39-6c73c8f13b9f"
      },
      "execution_count": 139,
      "outputs": [
        {
          "output_type": "stream",
          "name": "stdout",
          "text": [
            "[3, 4, 5]\n"
          ]
        }
      ]
    },
    {
      "cell_type": "markdown",
      "source": [
        "#Q24#\n",
        "\n",
        "Write a program that demonstrates basic set operations such as union, intersection, and difference."
      ],
      "metadata": {
        "id": "G-40K60WTqEv"
      }
    },
    {
      "cell_type": "code",
      "source": [],
      "metadata": {
        "id": "hbdsdbOzTt1W"
      },
      "execution_count": 8,
      "outputs": []
    }
  ]
}